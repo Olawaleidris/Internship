{
 "cells": [
  {
   "cell_type": "markdown",
   "id": "b47a62ca",
   "metadata": {},
   "source": [
    "#1. C) %"
   ]
  },
  {
   "cell_type": "markdown",
   "id": "76c276dc",
   "metadata": {},
   "source": [
    "#2. B) 0"
   ]
  },
  {
   "cell_type": "markdown",
   "id": "51f647e3",
   "metadata": {},
   "source": [
    "#3. C) 24"
   ]
  },
  {
   "cell_type": "markdown",
   "id": "af6d6d69",
   "metadata": {},
   "source": [
    "#4. A)  2 "
   ]
  },
  {
   "cell_type": "markdown",
   "id": "74a52a15",
   "metadata": {},
   "source": [
    "#5. D) 6"
   ]
  },
  {
   "cell_type": "markdown",
   "id": "35380193",
   "metadata": {},
   "source": [
    "#6. B) It encloses the lines of code which will be executed if any error occurs while executing the lines of code in\n",
    "the try block."
   ]
  },
  {
   "cell_type": "markdown",
   "id": "abb4f5f3",
   "metadata": {},
   "source": [
    "#7. A) It is used to raise an exception. "
   ]
  },
  {
   "cell_type": "markdown",
   "id": "5b0bed78",
   "metadata": {},
   "source": [
    "#8. C) in defining a generator"
   ]
  },
  {
   "cell_type": "markdown",
   "id": "7f1edcc0",
   "metadata": {},
   "source": [
    "#9.  A)  _abc  and   C)  abc2"
   ]
  },
  {
   "cell_type": "markdown",
   "id": "2bd28399",
   "metadata": {},
   "source": [
    "#10. A) yield and  B) raise"
   ]
  },
  {
   "cell_type": "markdown",
   "id": "0690de95",
   "metadata": {},
   "source": [
    "11."
   ]
  },
  {
   "cell_type": "code",
   "execution_count": 1,
   "id": "ebfa5edb",
   "metadata": {},
   "outputs": [
    {
     "name": "stdout",
     "output_type": "stream",
     "text": [
      "Enter a number: 8\n",
      "The factorial of the number is 40320\n"
     ]
    }
   ],
   "source": [
    "a = int(input(\"Enter a number: \")) \n",
    "b = 1 \n",
    "for i in range(1,a+1): \n",
    "    b = b * i \n",
    " \n",
    "print('The factorial of the number is', b) "
   ]
  },
  {
   "cell_type": "markdown",
   "id": "f89a7f93",
   "metadata": {},
   "source": [
    "12."
   ]
  },
  {
   "cell_type": "code",
   "execution_count": 2,
   "id": "90b8eb7a",
   "metadata": {},
   "outputs": [
    {
     "name": "stdout",
     "output_type": "stream",
     "text": [
      "Enter any number : 6\n",
      "6  is not a prime number\n"
     ]
    }
   ],
   "source": [
    "a = int(input(\"Enter any number : \"))\n",
    "if a > 1:\n",
    "    for i in range(2, a):\n",
    "        if (a % i) == 0:\n",
    "            print(a, \" is not a prime number\")\n",
    "            break\n",
    "    else:\n",
    "        print(a, \" is a prime number\")\n",
    "elif a == 0 or 1:\n",
    "\n",
    "    print(a, \"is a neither prime nor composite number\")\n",
    "else:\n",
    "    print(a, \"is not a  prime number but a composite number\")"
   ]
  },
  {
   "cell_type": "markdown",
   "id": "3699554c",
   "metadata": {},
   "source": [
    "13."
   ]
  },
  {
   "cell_type": "code",
   "execution_count": 3,
   "id": "93247da0",
   "metadata": {},
   "outputs": [
    {
     "name": "stdout",
     "output_type": "stream",
     "text": [
      "Enter the string:abba\n",
      "The string is a palindrome\n"
     ]
    }
   ],
   "source": [
    "a =input((\"Enter the string:\"))\n",
    "\n",
    "if(a == a[::-1]):\n",
    "    \n",
    "      print(\"The string is a palindrome\")\n",
    "else:\n",
    "      print(\"Not a palindrome\")"
   ]
  },
  {
   "cell_type": "markdown",
   "id": "03bde258",
   "metadata": {},
   "source": [
    "14."
   ]
  },
  {
   "cell_type": "code",
   "execution_count": 4,
   "id": "9434b4aa",
   "metadata": {},
   "outputs": [
    {
     "name": "stdout",
     "output_type": "stream",
     "text": [
      "Enter the first side: 4\n",
      "Enter the second side: 9\n",
      "The third side is: 9.848857801796104\n"
     ]
    }
   ],
   "source": [
    "import math\n",
    "\n",
    "firstside = float(input(\"Enter the first side: \"))\n",
    "\n",
    "secondside= float(input(\"Enter the second side: \"))\n",
    "\n",
    "thirdside = math.sqrt(firstside ** 2 + secondside ** 2)\n",
    "\n",
    "print(\"The third side is:\", thirdside)"
   ]
  },
  {
   "cell_type": "markdown",
   "id": "51608fbc",
   "metadata": {},
   "source": [
    "15."
   ]
  },
  {
   "cell_type": "code",
   "execution_count": 5,
   "id": "8f5cc9ff",
   "metadata": {},
   "outputs": [
    {
     "name": "stdout",
     "output_type": "stream",
     "text": [
      "Enter the string: c\\dgzgdmkumdfzgrztedkujnbdsb\n",
      "{'c': 1, '\\\\': 1, 'd': 5, 'g': 3, 'z': 3, 'm': 2, 'k': 2, 'u': 2, 'f': 1, 'r': 1, 't': 1, 'e': 1, 'j': 1, 'n': 1, 'b': 2, 's': 1}\n"
     ]
    }
   ],
   "source": [
    "a =input((\"Enter the string: \"))\n",
    "\n",
    "result = {}\n",
    "\n",
    "for i in a:\n",
    "    if i in result:\n",
    "        result [i] += 1\n",
    "    else:\n",
    "        result [i] = 1\n",
    "        \n",
    "print(result)\n"
   ]
  },
  {
   "cell_type": "markdown",
   "id": "07479a7b",
   "metadata": {},
   "source": [
    "#### "
   ]
  }
 ],
 "metadata": {
  "kernelspec": {
   "display_name": "Python 3 (ipykernel)",
   "language": "python",
   "name": "python3"
  },
  "language_info": {
   "codemirror_mode": {
    "name": "ipython",
    "version": 3
   },
   "file_extension": ".py",
   "mimetype": "text/x-python",
   "name": "python",
   "nbconvert_exporter": "python",
   "pygments_lexer": "ipython3",
   "version": "3.9.7"
  }
 },
 "nbformat": 4,
 "nbformat_minor": 5
}
