{
 "cells": [
  {
   "cell_type": "markdown",
   "id": "9f80af4e",
   "metadata": {},
   "source": [
    "1. C) %"
   ]
  },
  {
   "cell_type": "markdown",
   "id": "0163cf94",
   "metadata": {},
   "source": [
    "2. B) 0"
   ]
  },
  {
   "cell_type": "markdown",
   "id": "8a5b2262",
   "metadata": {},
   "source": [
    "3. C) 24"
   ]
  },
  {
   "cell_type": "markdown",
   "id": "6a2191be",
   "metadata": {},
   "source": [
    "4. A)  2 "
   ]
  },
  {
   "cell_type": "markdown",
   "id": "d6e57974",
   "metadata": {},
   "source": [
    "5. D) 6\n"
   ]
  },
  {
   "cell_type": "markdown",
   "id": "57f4283f",
   "metadata": {},
   "source": [
    "6. B) It encloses the lines of code which will be executed if any error occurs while executing the lines of code in\n",
    "the try block."
   ]
  },
  {
   "cell_type": "markdown",
   "id": "ff3be3b2",
   "metadata": {},
   "source": [
    "7. A) It is used to raise an exception. "
   ]
  },
  {
   "cell_type": "markdown",
   "id": "c39b170b",
   "metadata": {},
   "source": [
    "8. C) in defining a generator"
   ]
  },
  {
   "cell_type": "markdown",
   "id": "b203cb36",
   "metadata": {},
   "source": [
    "9.  A)  _abc  and   C)  abc2"
   ]
  },
  {
   "cell_type": "markdown",
   "id": "92b2438b",
   "metadata": {},
   "source": [
    "10. A) yield and  B) raise"
   ]
  },
  {
   "cell_type": "markdown",
   "id": "6feab3eb",
   "metadata": {},
   "source": [
    "11."
   ]
  },
  {
   "cell_type": "code",
   "execution_count": null,
   "id": "bdcc53ef",
   "metadata": {},
   "outputs": [],
   "source": [
    "a = int(input(\"Enter a number: \")) \n",
    "b = 1 \n",
    "for i in range(1,a+1): \n",
    "    b = b * i \n",
    " \n",
    "print('The factorial of the number is', b) "
   ]
  },
  {
   "cell_type": "markdown",
   "id": "c6293a0d",
   "metadata": {},
   "source": [
    "12."
   ]
  },
  {
   "cell_type": "code",
   "execution_count": null,
   "id": "10fcca17",
   "metadata": {},
   "outputs": [],
   "source": [
    "a = int(input(\"Enter any number : \"))\n",
    "if a > 1:\n",
    "    for i in range(2, a):\n",
    "        if (a % i) == 0:\n",
    "            print(a, \" is not a prime number\")\n",
    "            break\n",
    "    else:\n",
    "        print(a, \" is a prime number\")\n",
    "elif a == 0 or 1:\n",
    "\n",
    "    print(a, \"is a neither prime nor composite number\")\n",
    "else:\n",
    "    print(a, \"is not a  prime number but a composite number\")"
   ]
  },
  {
   "cell_type": "markdown",
   "id": "1025233f",
   "metadata": {},
   "source": [
    "13."
   ]
  },
  {
   "cell_type": "code",
   "execution_count": null,
   "id": "9f95e8a5",
   "metadata": {},
   "outputs": [],
   "source": [
    "a =input((\"Enter the string:\"))\n",
    "\n",
    "if(a == a[::-1]):\n",
    "    \n",
    "      print(\"The string is a palindrome\")\n",
    "else:\n",
    "      print(\"Not a palindrome\")"
   ]
  },
  {
   "cell_type": "markdown",
   "id": "f80a0ce2",
   "metadata": {},
   "source": [
    "14."
   ]
  },
  {
   "cell_type": "code",
   "execution_count": null,
   "id": "c154f2e5",
   "metadata": {},
   "outputs": [],
   "source": [
    "import math\n",
    "\n",
    "firstside = float(input(\"Enter the first side: \"))\n",
    "\n",
    "secondside= float(input(\"Enter the second side: \"))\n",
    "\n",
    "thirdside = math.sqrt(firstside ** 2 + secondside ** 2)\n",
    "\n",
    "print(\"The third side is:\", thirdside)"
   ]
  },
  {
   "cell_type": "markdown",
   "id": "fa44ce64",
   "metadata": {},
   "source": [
    "15."
   ]
  },
  {
   "cell_type": "code",
   "execution_count": null,
   "id": "2cd3f882",
   "metadata": {},
   "outputs": [],
   "source": [
    "a =input((\"Enter the string: \"))\n",
    "\n",
    "result = {}\n",
    "\n",
    "for i in a:\n",
    "    if i in result:\n",
    "        result [i] += 1\n",
    "    else:\n",
    "        result [i] = 1\n",
    "        \n",
    "print(result)\n"
   ]
  },
  {
   "cell_type": "markdown",
   "id": "81e2dc21",
   "metadata": {},
   "source": [
    "#### "
   ]
  }
 ],
 "metadata": {
  "kernelspec": {
   "display_name": "Python 3 (ipykernel)",
   "language": "python",
   "name": "python3"
  },
  "language_info": {
   "codemirror_mode": {
    "name": "ipython",
    "version": 3
   },
   "file_extension": ".py",
   "mimetype": "text/x-python",
   "name": "python",
   "nbconvert_exporter": "python",
   "pygments_lexer": "ipython3",
   "version": "3.9.7"
  }
 },
 "nbformat": 4,
 "nbformat_minor": 5
}
